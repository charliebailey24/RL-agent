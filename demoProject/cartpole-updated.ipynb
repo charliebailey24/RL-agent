{
 "cells": [
  {
   "attachments": {},
   "cell_type": "markdown",
   "metadata": {
    "colab_type": "text",
    "id": "ReRFzrTl77hl"
   },
   "source": [
    "# Intro to Gym/Gymnasium\n",
    "In this demo, we will explore a reinforcement learning agent training platform OpenAI Gym and Farama Foundation Gymnasium.      \n",
    "You can see documentation and more info here: https://gymnasium.farama.org/     \n",
    "You can see their source code and mode details how it works in their git: https://github.com/openai/gym and https://github.com/Farama-Foundation/Gymnasium   \n",
    "Extending the collections that gym already has, OpenAI Universe https://github.com/openai/universe (deprecated as of now; April 2020) or Retro https://github.com/openai/retro provides a platform with which you can convert existing games to Gymnasium/Gym environment.\n",
    "Note that the development of tools in reinforcement learning is happening very rapidly and things are mostly experimental that it's uncommon that certain packages get updated without backward compatibilty in a matter of a few months to a year. \n",
    "\n",
    "Currently, this demo uses gymnasium version 0.28.1 or gym version 0.26.1.\n",
    "\n",
    "## High-level overview\n",
    "\n",
    "Gym has been deveoped and maintained by OpenAI (Gymnasium is a fork of OpenAI's Gym library since OpenAI handed over maintenance a few years ago to an outside team, and is where future maintenance will occur going forward). `gym` and `gymnasium` provides a rich collection of environments for reinforcement learning experiments in an unified interface. Although each environment may look differently and can do different things, the main structure of a gym envoronment includes    \n",
    "\n",
    "- Action space: set of actions either discrete or continuous, or both.\n",
    "- Observation space: a boundary within an agent can be.\n",
    "- `step` method: executes an action and returns reward and whether it's terminal state.\n",
    "- `reset` method: initializes the environment.    \n",
    "\n",
    "These core functions are in cluded in the class `Env` defined in https://github.com/openai/gym/blob/master/gym/core.py\n",
    "Note that the actual detailed implementation of what values to return (e.g in `step` method) is defined in the each environment, and the `Env` class in `core.py` defines the overall structure.\n",
    "\n",
    "Environment has a few [environment groups](https://gymnasium.farama.org/content/basic_usage/) that ships with standard gym package, and it also has 3rd party environments as well as lets you to build your own.\n",
    "Among its many environments, we will use a basic environment called \"Classic control\" in this demo.\n"
   ]
  },
  {
   "cell_type": "code",
   "execution_count": 1,
   "metadata": {
    "colab": {},
    "colab_type": "code",
    "id": "x_Jq7g1-77hm"
   },
   "outputs": [],
   "source": [
    "import gymnasium as gym\n",
    "# You can choose to use gym library instead of gymnasium\n",
    "# import gym \n",
    "\n",
    "import warnings\n",
    "from collections import namedtuple\n",
    "warnings.filterwarnings(\"ignore\", category=DeprecationWarning)\n",
    "partition = namedtuple(\"partition\", [\"type\", \"subtype\"])"
   ]
  },
  {
   "cell_type": "code",
   "execution_count": 2,
   "metadata": {
    "colab": {
     "base_uri": "https://localhost:8080/",
     "height": 34
    },
    "colab_type": "code",
    "executionInfo": {
     "elapsed": 982,
     "status": "ok",
     "timestamp": 1587754481526,
     "user": {
      "displayName": "Ketan Ramesh",
      "photoUrl": "https://lh3.googleusercontent.com/a-/AOh14GjfwRjj49F2JlDyKTfXmTOoBNu-A4deHVrB1vg0Qw=s64",
      "userId": "03181076370714837334"
     },
     "user_tz": 360
    },
    "id": "YGcSpp4D77hr",
    "outputId": "051387ac-b7d8-49dc-edc3-2e9a5226f0fa"
   },
   "outputs": [
    {
     "data": {
      "text/plain": [
       "'1.1.1'"
      ]
     },
     "execution_count": 2,
     "metadata": {},
     "output_type": "execute_result"
    }
   ],
   "source": [
    "gym.__version__"
   ]
  },
  {
   "cell_type": "code",
   "execution_count": 3,
   "metadata": {
    "colab": {},
    "colab_type": "code",
    "id": "e_vnnDZ077hv"
   },
   "outputs": [],
   "source": [
    "e = gym.make('CartPole-v1') "
   ]
  },
  {
   "cell_type": "code",
   "execution_count": 4,
   "metadata": {
    "colab": {},
    "colab_type": "code",
    "id": "TBY3zV8v77hy"
   },
   "outputs": [],
   "source": [
    "obs = e.reset()"
   ]
  },
  {
   "cell_type": "code",
   "execution_count": 5,
   "metadata": {
    "colab": {
     "base_uri": "https://localhost:8080/",
     "height": 34
    },
    "colab_type": "code",
    "executionInfo": {
     "elapsed": 971,
     "status": "ok",
     "timestamp": 1587754481527,
     "user": {
      "displayName": "Ketan Ramesh",
      "photoUrl": "https://lh3.googleusercontent.com/a-/AOh14GjfwRjj49F2JlDyKTfXmTOoBNu-A4deHVrB1vg0Qw=s64",
      "userId": "03181076370714837334"
     },
     "user_tz": 360
    },
    "id": "mo4mpNB577h1",
    "outputId": "232a3645-099d-49a5-9ac1-5d78b4f26c37"
   },
   "outputs": [
    {
     "data": {
      "text/plain": [
       "(array([-0.02072543, -0.01905872,  0.01790823,  0.0327855 ], dtype=float32),\n",
       " {})"
      ]
     },
     "execution_count": 5,
     "metadata": {},
     "output_type": "execute_result"
    }
   ],
   "source": [
    "obs"
   ]
  },
  {
   "cell_type": "code",
   "execution_count": 6,
   "metadata": {
    "colab": {
     "base_uri": "https://localhost:8080/",
     "height": 34
    },
    "colab_type": "code",
    "executionInfo": {
     "elapsed": 964,
     "status": "ok",
     "timestamp": 1587754481528,
     "user": {
      "displayName": "Ketan Ramesh",
      "photoUrl": "https://lh3.googleusercontent.com/a-/AOh14GjfwRjj49F2JlDyKTfXmTOoBNu-A4deHVrB1vg0Qw=s64",
      "userId": "03181076370714837334"
     },
     "user_tz": 360
    },
    "id": "7ms9y2IF77h4",
    "outputId": "28019164-f40a-4684-c33f-8a564e926efa"
   },
   "outputs": [
    {
     "data": {
      "text/plain": [
       "Discrete(2)"
      ]
     },
     "execution_count": 6,
     "metadata": {},
     "output_type": "execute_result"
    }
   ],
   "source": [
    "e.action_space #means possible actions are left and right\n",
    "#the action space is defined in gym.spaces"
   ]
  },
  {
   "cell_type": "code",
   "execution_count": 7,
   "metadata": {
    "colab": {},
    "colab_type": "code",
    "id": "nTAczof_77h7"
   },
   "outputs": [],
   "source": [
    "from gym.spaces.discrete import Discrete"
   ]
  },
  {
   "cell_type": "code",
   "execution_count": 8,
   "metadata": {
    "colab": {},
    "colab_type": "code",
    "id": "mu4AiznC77h_"
   },
   "outputs": [],
   "source": [
    "d = Discrete(2) #the Discrete is a class that has methods .sample and .contains"
   ]
  },
  {
   "cell_type": "code",
   "execution_count": 9,
   "metadata": {
    "colab": {
     "base_uri": "https://localhost:8080/",
     "height": 34
    },
    "colab_type": "code",
    "executionInfo": {
     "elapsed": 952,
     "status": "ok",
     "timestamp": 1587754481529,
     "user": {
      "displayName": "Ketan Ramesh",
      "photoUrl": "https://lh3.googleusercontent.com/a-/AOh14GjfwRjj49F2JlDyKTfXmTOoBNu-A4deHVrB1vg0Qw=s64",
      "userId": "03181076370714837334"
     },
     "user_tz": 360
    },
    "id": "tUuXD-s277iB",
    "outputId": "de400d4d-9304-4c5f-8dee-4237de9b25df"
   },
   "outputs": [
    {
     "data": {
      "text/plain": [
       "[1, 0, 1, 0, 1, 0, 1, 0, 1, 1]"
      ]
     },
     "execution_count": 9,
     "metadata": {},
     "output_type": "execute_result"
    }
   ],
   "source": [
    "[d.sample() for x in range(10)] #sample generates an action output"
   ]
  },
  {
   "cell_type": "code",
   "execution_count": 10,
   "metadata": {
    "colab": {
     "base_uri": "https://localhost:8080/",
     "height": 34
    },
    "colab_type": "code",
    "executionInfo": {
     "elapsed": 943,
     "status": "ok",
     "timestamp": 1587754481529,
     "user": {
      "displayName": "Ketan Ramesh",
      "photoUrl": "https://lh3.googleusercontent.com/a-/AOh14GjfwRjj49F2JlDyKTfXmTOoBNu-A4deHVrB1vg0Qw=s64",
      "userId": "03181076370714837334"
     },
     "user_tz": 360
    },
    "id": "MEGPKg9t77iE",
    "outputId": "46e5ec00-78a6-4487-e89a-79c242fa9c2d"
   },
   "outputs": [
    {
     "name": "stdout",
     "output_type": "stream",
     "text": [
      "True False\n"
     ]
    }
   ],
   "source": [
    "print(d.contains(0), d.contains(2)) #with .contains method, you can check whether an integer is a valid action"
   ]
  },
  {
   "cell_type": "code",
   "execution_count": 11,
   "metadata": {
    "colab": {
     "base_uri": "https://localhost:8080/",
     "height": 34
    },
    "colab_type": "code",
    "executionInfo": {
     "elapsed": 932,
     "status": "ok",
     "timestamp": 1587754481529,
     "user": {
      "displayName": "Ketan Ramesh",
      "photoUrl": "https://lh3.googleusercontent.com/a-/AOh14GjfwRjj49F2JlDyKTfXmTOoBNu-A4deHVrB1vg0Qw=s64",
      "userId": "03181076370714837334"
     },
     "user_tz": 360
    },
    "id": "vp62ntUU77iH",
    "outputId": "a4be4669-4d99-4d9f-a056-0057dadacc34"
   },
   "outputs": [
    {
     "data": {
      "text/plain": [
       "Box([-4.8               -inf -0.41887903        -inf], [4.8               inf 0.41887903        inf], (4,), float32)"
      ]
     },
     "execution_count": 11,
     "metadata": {},
     "output_type": "execute_result"
    }
   ],
   "source": [
    "e.observation_space #returns Box class, which represents n-dim tensor"
   ]
  },
  {
   "cell_type": "code",
   "execution_count": 12,
   "metadata": {
    "colab": {
     "base_uri": "https://localhost:8080/",
     "height": 34
    },
    "colab_type": "code",
    "executionInfo": {
     "elapsed": 1204,
     "status": "ok",
     "timestamp": 1587754481809,
     "user": {
      "displayName": "Ketan Ramesh",
      "photoUrl": "https://lh3.googleusercontent.com/a-/AOh14GjfwRjj49F2JlDyKTfXmTOoBNu-A4deHVrB1vg0Qw=s64",
      "userId": "03181076370714837334"
     },
     "user_tz": 360
    },
    "id": "No_C7X0B77iJ",
    "outputId": "456091bf-4163-48a7-9d48-2c74cc0b2411"
   },
   "outputs": [
    {
     "data": {
      "text/plain": [
       "(array([-0.0211066 ,  0.1758019 ,  0.01856394, -0.2541938 ], dtype=float32),\n",
       " 1.0,\n",
       " False,\n",
       " False,\n",
       " {})"
      ]
     },
     "execution_count": 12,
     "metadata": {},
     "output_type": "execute_result"
    }
   ],
   "source": [
    "e.step(1)"
   ]
  },
  {
   "cell_type": "code",
   "execution_count": 13,
   "metadata": {
    "colab": {
     "base_uri": "https://localhost:8080/",
     "height": 34
    },
    "colab_type": "code",
    "executionInfo": {
     "elapsed": 1196,
     "status": "ok",
     "timestamp": 1587754481810,
     "user": {
      "displayName": "Ketan Ramesh",
      "photoUrl": "https://lh3.googleusercontent.com/a-/AOh14GjfwRjj49F2JlDyKTfXmTOoBNu-A4deHVrB1vg0Qw=s64",
      "userId": "03181076370714837334"
     },
     "user_tz": 360
    },
    "id": "MV4u3f9677iM",
    "outputId": "e3e42604-014d-4111-f922-8f65fd44b048"
   },
   "outputs": [
    {
     "data": {
      "text/plain": [
       "(array([-0.01759056, -0.01958013,  0.01348006,  0.0442862 ], dtype=float32),\n",
       " 1.0,\n",
       " False,\n",
       " False,\n",
       " {})"
      ]
     },
     "execution_count": 13,
     "metadata": {},
     "output_type": "execute_result"
    }
   ],
   "source": [
    "e.step(0) \n",
    "# see https://github.com/openai/gym/blob/master/gym/envs/classic_control/cartpole.py\n",
    "# force = self.force_mag if action==1 else -self.force_mag"
   ]
  },
  {
   "cell_type": "markdown",
   "metadata": {
    "colab_type": "text",
    "id": "oTjeN5wu77iO"
   },
   "source": [
    "## Making an agent\n",
    "Since the `gym` provides us the environment, it's our job to make an agent (policy) that can interact with the environemnt. Here is an example of a random agent."
   ]
  },
  {
   "cell_type": "code",
   "execution_count": 14,
   "metadata": {
    "colab": {
     "base_uri": "https://localhost:8080/",
     "height": 34
    },
    "colab_type": "code",
    "executionInfo": {
     "elapsed": 1187,
     "status": "ok",
     "timestamp": 1587754481810,
     "user": {
      "displayName": "Ketan Ramesh",
      "photoUrl": "https://lh3.googleusercontent.com/a-/AOh14GjfwRjj49F2JlDyKTfXmTOoBNu-A4deHVrB1vg0Qw=s64",
      "userId": "03181076370714837334"
     },
     "user_tz": 360
    },
    "id": "9w2CUN6I77iO",
    "outputId": "2adfbef0-d104-46f6-8c70-d103bc2bb94d"
   },
   "outputs": [
    {
     "name": "stdout",
     "output_type": "stream",
     "text": [
      "Episode done in 13 steps, total reward 13.00\n"
     ]
    }
   ],
   "source": [
    "import gymnasium as gym\n",
    "\n",
    "env = gym.make(\"CartPole-v1\")\n",
    "\n",
    "total_reward = 0.0\n",
    "total_steps = 0\n",
    "obs = env.reset()\n",
    "\n",
    "while True:\n",
    "    action = env.action_space.sample() #.sample method gives a random action sample\n",
    "    obs, reward, done, _, _ = env.step(action)\n",
    "    total_reward += reward\n",
    "    total_steps += 1\n",
    "    if done:\n",
    "        break\n",
    "\n",
    "print(\"Episode done in %d steps, total reward %.2f\" % (total_steps, total_reward))"
   ]
  },
  {
   "attachments": {},
   "cell_type": "markdown",
   "metadata": {
    "colab_type": "text",
    "id": "4Yiqkd6V77iR"
   },
   "source": [
    "## Monitoring the agent"
   ]
  },
  {
   "cell_type": "code",
   "execution_count": 15,
   "metadata": {
    "colab": {},
    "colab_type": "code",
    "id": "SLeyhsZG77iT"
   },
   "outputs": [],
   "source": [
    "import matplotlib.pyplot as plt\n",
    "%matplotlib inline\n",
    "from IPython import display"
   ]
  },
  {
   "cell_type": "code",
   "execution_count": 16,
   "metadata": {
    "colab": {},
    "colab_type": "code",
    "id": "Z4bpB3RO77iU"
   },
   "outputs": [],
   "source": [
    "def show_state(env, step=0, info=\"\"):\n",
    "    plt.figure(3)\n",
    "    plt.clf()\n",
    "    plt.imshow(env.render())\n",
    "    plt.title(\"%s | Step: %d %s\" % (env.spec.id,step, info))\n",
    "    plt.axis('off')\n",
    "\n",
    "    display.clear_output(wait=True)\n",
    "    display.display(plt.gcf())"
   ]
  },
  {
   "cell_type": "code",
   "execution_count": 17,
   "metadata": {
    "colab": {
     "base_uri": "https://localhost:8080/",
     "height": 528
    },
    "colab_type": "code",
    "executionInfo": {
     "elapsed": 10205,
     "status": "ok",
     "timestamp": 1587754490872,
     "user": {
      "displayName": "Ketan Ramesh",
      "photoUrl": "https://lh3.googleusercontent.com/a-/AOh14GjfwRjj49F2JlDyKTfXmTOoBNu-A4deHVrB1vg0Qw=s64",
      "userId": "03181076370714837334"
     },
     "user_tz": 360
    },
    "id": "7akosTK_77iV",
    "outputId": "b3650d5c-51a2-4bc4-fb25-4db8290f29f7"
   },
   "outputs": [
    {
     "data": {
      "image/png": "[encoded data removed]",
      "text/plain": [
       "<Figure size 640x480 with 1 Axes>"
      ]
     },
     "metadata": {},
     "output_type": "display_data"
    },
    {
     "name": "stdout",
     "output_type": "stream",
     "text": [
      "Episode done in 18 steps, total reward 18.00\n"
     ]
    },
    {
     "data": {
      "image/png": "[encoded data removed]",
      "text/plain": [
       "<Figure size 640x480 with 1 Axes>"
      ]
     },
     "metadata": {},
     "output_type": "display_data"
    }
   ],
   "source": [
    "env = gym.make(\"CartPole-v1\", render_mode='rgb_array')\n",
    "#env = gym.wrappers.Monitor(env, \"recording\", force=True)\n",
    "\n",
    "total_reward = 0.0\n",
    "total_steps = 0\n",
    "obs = env.reset()\n",
    "\n",
    "while True:\n",
    "    action = env.action_space.sample()\n",
    "    obs, reward, done, _, _ = env.step(action)\n",
    "    total_reward += reward\n",
    "    total_steps += 1\n",
    "    show_state(env,total_steps)\n",
    "    if done:\n",
    "        break\n",
    "\n",
    "print(\"Episode done in %d steps, total reward %.2f\" % (total_steps, total_reward))\n",
    "env.close()\n",
    "env.env.close()"
   ]
  },
  {
   "cell_type": "markdown",
   "metadata": {
    "colab_type": "text",
    "id": "1IMqU34s77iX"
   },
   "source": [
    "## Environment wrappers\n",
    "`Env` offers a `Wrapper` class that allow you to modify settings in the `Env` class. `Wrapper` has three subclasses `RewardWrapper`, `ObservationWrapper` and `ActionWrapper`.\n",
    "Let's take an example of an agent that takes a random action e.g. 10% of the time. We'll write a class that overrides `Env`'s action usging `ActionWrapper`. "
   ]
  },
  {
   "cell_type": "code",
   "execution_count": 18,
   "metadata": {
    "colab": {},
    "colab_type": "code",
    "id": "4A336uTY77iX"
   },
   "outputs": [],
   "source": [
    "import gymnasium as gym\n",
    "import random\n",
    "\n",
    "class RandomEpsilonWrapper(gym.ActionWrapper):\n",
    "    def __init__(self, env, epsilon=0.1):\n",
    "        super(RandomEpsilonWrapper, self).__init__(env)\n",
    "        self.epsilon = epsilon\n",
    "\n",
    "    def action(self, action):\n",
    "        if random.random() < self.epsilon:\n",
    "            print(\"Random!\")\n",
    "            return self.env.action_space.sample()\n",
    "        else:\n",
    "            print(\"Policy\")\n",
    "        return action"
   ]
  },
  {
   "cell_type": "code",
   "execution_count": 19,
   "metadata": {
    "colab": {
     "base_uri": "https://localhost:8080/",
     "height": 289
    },
    "colab_type": "code",
    "executionInfo": {
     "elapsed": 10190,
     "status": "ok",
     "timestamp": 1587754490873,
     "user": {
      "displayName": "Ketan Ramesh",
      "photoUrl": "https://lh3.googleusercontent.com/a-/AOh14GjfwRjj49F2JlDyKTfXmTOoBNu-A4deHVrB1vg0Qw=s64",
      "userId": "03181076370714837334"
     },
     "user_tz": 360
    },
    "id": "423lULmx77iY",
    "outputId": "91166488-ed8f-4e82-e9aa-667db54edc27"
   },
   "outputs": [
    {
     "name": "stdout",
     "output_type": "stream",
     "text": [
      "Random!\n",
      "Policy\n",
      "Policy\n",
      "Policy\n",
      "Random!\n",
      "Random!\n",
      "Policy\n",
      "Random!\n",
      "Policy\n",
      "Policy\n",
      "Random!\n",
      "Random!\n",
      "Policy\n",
      "Policy\n",
      "Policy\n",
      "Reward got: 15.00\n"
     ]
    }
   ],
   "source": [
    "env = RandomEpsilonWrapper(gym.make(\"CartPole-v1\"),epsilon=0.5)\n",
    "\n",
    "obs = env.reset()\n",
    "total_reward = 0.0\n",
    "\n",
    "while True:\n",
    "    obs, reward, done, _, _= env.step(0) #we have a fixed policy of going to left (action = 0) only\n",
    "    total_reward += reward\n",
    "    #show_state(env) #with this line uncommented, you can also monitor\n",
    "    if done:\n",
    "        break\n",
    "\n",
    "print(\"Reward got: %.2f\" % total_reward)"
   ]
  },
  {
   "cell_type": "markdown",
   "metadata": {
    "colab_type": "text",
    "id": "VjUnhe6Q77ia"
   },
   "source": [
    "## Implementing simple  reflex agent\n",
    "Below is the rule defined in the [Cartpole environment](https://github.com/openai/gym/blob/master/gym/envs/classic_control/cartpole.py)\n",
    "```\n",
    "   Observation: \n",
    "        Type: Box(4)\n",
    "        Num\tObservation                 Min         Max\n",
    "        0\tCart Position             -4.8            4.8\n",
    "        1\tCart Velocity             -Inf            Inf\n",
    "        2\tPole Angle                 -24 deg        24 deg\n",
    "        3\tPole Velocity At Tip      -Inf            Inf\n",
    "        \n",
    "    Actions:\n",
    "        Type: Discrete(2)\n",
    "        Num\tAction\n",
    "        0\tPush cart to the left\n",
    "        1\tPush cart to the right\n",
    "        \n",
    "        Note: The amount the velocity that is reduced or increased is not fixed; it depends on the angle the pole is pointing. This is because the center of gravity of the pole increases the amount of energy needed to move the cart underneath it\n",
    "    Reward:\n",
    "        Reward is 1 for every step taken, including the termination step\n",
    "    Starting State:\n",
    "        All observations are assigned a uniform random value in [-0.05..0.05]\n",
    "    Episode Termination:\n",
    "        Pole Angle is more than 12 degrees\n",
    "        Cart Position is more than 2.4 (center of the cart reaches the edge of the display)\n",
    "        Episode length is greater than 200\n",
    "        Solved Requirements\n",
    "        Considered solved when the average reward is greater than or equal to 195.0 over 100 consecutive trials.\n",
    "```\n",
    "\n",
    "Let's make an agent that act deterministically. Let's say the agent can sense the velocity of the cart vc and the velocity of the pole vp. It will continue going to the same direction until it senses the pole starts falling toward the oposite direction of it moving (Simple reflex agent).\n",
    "\n",
    "Here, we create an Agent class first, which runs single episode and can run episodes n times so that we can do some stats. Then we'll create subclasses using inheritance (below examples do not use `super` as we used in the wrapper example above)"
   ]
  },
  {
   "cell_type": "code",
   "execution_count": 23,
   "metadata": {
    "colab": {},
    "colab_type": "code",
    "id": "uqFwTHi677ia"
   },
   "outputs": [],
   "source": [
    "# deterministic rule\n",
    "# first choose random action\n",
    "# monitor vc and vp while keep going to the same direction\n",
    "# if the sign of the two velocities are different, flip the direction (action)\n",
    "import gymnasium as gym\n",
    "import numpy as np\n",
    "import matplotlib.pyplot as plt\n",
    "%matplotlib inline\n",
    "\n",
    "class Agent:\n",
    "    def __init__(self):\n",
    "        self.env = gym.make(\"CartPole-v1\")\n",
    "        self.state = self.env.reset()\n",
    "        self.rewards = []\n",
    "        self.steps = []\n",
    "        self.poilcy = []\n",
    "        \n",
    "    def select_action(self, state, action):  \n",
    "        return action\n",
    "\n",
    "    def play_episode(self, env):\n",
    "        total_reward = 0.0\n",
    "        state = env.reset()\n",
    "        action = random.choice([0,1])\n",
    "        steps = 0\n",
    "        actions = []\n",
    "        isInit = 1\n",
    "        while True:\n",
    "            if isInit:\n",
    "                state = state[0]\n",
    "                isInit = 0\n",
    "            action = self.select_action(state, action)\n",
    "            new_state, reward, is_done, _, _ = env.step(action)\n",
    "            total_reward += reward\n",
    "            steps +=1\n",
    "            actions.append(action)\n",
    "            if is_done:\n",
    "                break\n",
    "            state = new_state\n",
    "        return total_reward, steps, actions\n",
    "    \n",
    "    def repeat(self,n_sample):\n",
    "        rewards =[]\n",
    "        steps=[]\n",
    "        policy = []\n",
    "        for i in range(n_sample):\n",
    "            reward, step, actions = self.play_episode(self.env)\n",
    "            rewards.append(reward)\n",
    "            steps.append(step)\n",
    "            policy.append(actions)\n",
    "        self.rewards = rewards\n",
    "        self.steps = steps\n",
    "        # self.policy = np.array(policy)\n",
    "        self.policy = policy\n",
    "        \n",
    "        \n",
    "class ReflexAgent(Agent):       \n",
    "    def select_action(self, state, action):  \n",
    "        if state[1]*state[3]<0:\n",
    "            action = int(1-action)  \n",
    "        return action    \n"
   ]
  },
  {
   "cell_type": "code",
   "execution_count": 24,
   "metadata": {
    "colab": {
     "base_uri": "https://localhost:8080/",
     "height": 282
    },
    "colab_type": "code",
    "executionInfo": {
     "elapsed": 10888,
     "status": "ok",
     "timestamp": 1587754491583,
     "user": {
      "displayName": "Ketan Ramesh",
      "photoUrl": "https://lh3.googleusercontent.com/a-/AOh14GjfwRjj49F2JlDyKTfXmTOoBNu-A4deHVrB1vg0Qw=s64",
      "userId": "03181076370714837334"
     },
     "user_tz": 360
    },
    "id": "tE7vOWfM77ib",
    "outputId": "9cbdc2a8-a096-4780-baa0-e4b9101f63e5"
   },
   "outputs": [
    {
     "name": "stdout",
     "output_type": "stream",
     "text": [
      "47.816 21.60217914933584 221.0\n"
     ]
    },
    {
     "data": {
      "image/png": "[encoded data removed]",
      "text/plain": [
       "<Figure size 640x480 with 1 Axes>"
      ]
     },
     "metadata": {},
     "output_type": "display_data"
    }
   ],
   "source": [
    "ra = ReflexAgent()\n",
    "ra.repeat(1000)\n",
    "rewards = ra.rewards\n",
    "plt.hist(rewards,bins=50)\n",
    "print(np.mean(rewards), np.std(rewards), max(rewards))"
   ]
  },
  {
   "cell_type": "code",
   "execution_count": 25,
   "metadata": {
    "colab": {},
    "colab_type": "code",
    "id": "Ebh6Jzny77id"
   },
   "outputs": [],
   "source": [
    "class RandomAgent(Agent):       \n",
    "    def select_action(self,state,action):  \n",
    "        return random.choice([0,1]) "
   ]
  },
  {
   "cell_type": "code",
   "execution_count": 26,
   "metadata": {
    "colab": {
     "base_uri": "https://localhost:8080/",
     "height": 283
    },
    "colab_type": "code",
    "executionInfo": {
     "elapsed": 11422,
     "status": "ok",
     "timestamp": 1587754492129,
     "user": {
      "displayName": "Ketan Ramesh",
      "photoUrl": "https://lh3.googleusercontent.com/a-/AOh14GjfwRjj49F2JlDyKTfXmTOoBNu-A4deHVrB1vg0Qw=s64",
      "userId": "03181076370714837334"
     },
     "user_tz": 360
    },
    "id": "4nDxAR1n77ie",
    "outputId": "5f2aed66-1be3-48c2-b01c-d61d2312bcff"
   },
   "outputs": [
    {
     "name": "stdout",
     "output_type": "stream",
     "text": [
      "21.75 11.627875988330802 97.0\n"
     ]
    },
    {
     "data": {
      "image/png": "[encoded data removed]",
      "text/plain": [
       "<Figure size 640x480 with 1 Axes>"
      ]
     },
     "metadata": {},
     "output_type": "display_data"
    }
   ],
   "source": [
    "rda= RandomAgent()\n",
    "rda.repeat(1000)\n",
    "rewards1 = rda.rewards\n",
    "plt.hist(rewards1,bins=50)\n",
    "print(np.mean(rewards1), np.std(rewards1), max(rewards1))"
   ]
  },
  {
   "cell_type": "code",
   "execution_count": 27,
   "metadata": {
    "colab": {},
    "colab_type": "code",
    "id": "rGy0ioTA77if"
   },
   "outputs": [],
   "source": [
    "def replay(policy):\n",
    "    env = gym.make(\"CartPole-v1\", render_mode='rgb_array')\n",
    "    obs = env.reset()\n",
    "    step = 0\n",
    "    for a in policy:\n",
    "        env.step(a)\n",
    "        show_state(env, step)\n",
    "        step+=1"
   ]
  },
  {
   "cell_type": "code",
   "execution_count": 28,
   "metadata": {
    "colab": {
     "base_uri": "https://localhost:8080/",
     "height": 511
    },
    "colab_type": "code",
    "executionInfo": {
     "elapsed": 30792,
     "status": "ok",
     "timestamp": 1587754511515,
     "user": {
      "displayName": "Ketan Ramesh",
      "photoUrl": "https://lh3.googleusercontent.com/a-/AOh14GjfwRjj49F2JlDyKTfXmTOoBNu-A4deHVrB1vg0Qw=s64",
      "userId": "03181076370714837334"
     },
     "user_tz": 360
    },
    "id": "jUaWE78X77ig",
    "outputId": "65fcb88b-3c0c-4896-d490-5616d7723769"
   },
   "outputs": [
    {
     "data": {
      "image/png": "[encoded data removed]",
      "text/plain": [
       "<Figure size 640x480 with 1 Axes>"
      ]
     },
     "metadata": {},
     "output_type": "display_data"
    },
    {
     "data": {
      "image/png": "[encoded data removed]",
      "text/plain": [
       "<Figure size 640x480 with 1 Axes>"
      ]
     },
     "metadata": {},
     "output_type": "display_data"
    }
   ],
   "source": [
    "best_reflex = ra.policy[np.argmax(rewards)]\n",
    "replay(best_reflex) \n",
    "# Is this a bug?? It didn't terminate; \n",
    "# it's because everytime the environment is reset, the initial state is different that the policy is not the best for that episode.\n",
    "# To make it a proper reply you'll need to also save the initial state, or return the entire env object to reproduce the result.\n",
    "# The goal of your algorithm is that no matter which initial state it started with, it behaves optimally."
   ]
  },
  {
   "cell_type": "code",
   "execution_count": 29,
   "metadata": {
    "colab": {},
    "colab_type": "code",
    "id": "OGqQYtnu77ih"
   },
   "outputs": [
    {
     "data": {
      "image/png": "[encoded data removed]",
      "text/plain": [
       "<Figure size 640x480 with 1 Axes>"
      ]
     },
     "metadata": {},
     "output_type": "display_data"
    },
    {
     "data": {
      "image/png": "[encoded data removed]",
      "text/plain": [
       "<Figure size 640x480 with 1 Axes>"
      ]
     },
     "metadata": {},
     "output_type": "display_data"
    }
   ],
   "source": [
    "best_random = rda.policy[np.argmax(rewards1)]\n",
    "replay(best_random) "
   ]
  }
 ],
 "metadata": {
  "colab": {
   "collapsed_sections": [],
   "name": "cartpole-edited.ipynb",
   "provenance": []
  },
  "kernelspec": {
   "display_name": "portfolio_env",
   "language": "python",
   "name": "python3"
  },
  "language_info": {
   "codemirror_mode": {
    "name": "ipython",
    "version": 3
   },
   "file_extension": ".py",
   "mimetype": "text/x-python",
   "name": "python",
   "nbconvert_exporter": "python",
   "pygments_lexer": "ipython3",
   "version": "3.10.16"
  }
 },
 "nbformat": 4,
 "nbformat_minor": 0
}
